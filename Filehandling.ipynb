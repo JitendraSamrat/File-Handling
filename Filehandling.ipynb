{
  "nbformat": 4,
  "nbformat_minor": 0,
  "metadata": {
    "colab": {
      "provenance": []
    },
    "kernelspec": {
      "name": "python3",
      "display_name": "Python 3"
    },
    "language_info": {
      "name": "python"
    }
  },
  "cells": [
    {
      "cell_type": "markdown",
      "source": [
        "#THEORY\n"
      ],
      "metadata": {
        "id": "MHq4Xqd85SFD"
      }
    },
    {
      "cell_type": "markdown",
      "source": [
        "1. What is the difference between interpreted and compiled languages?\n",
        "- Interpreted languages (e.g., Python, JavaScript) execute code line by line at runtime, making them easier to debug but slower.\n",
        "Compiled languages (e.g., C, C++) translate the entire code into machine language before execution, making them faster but requiring compilation before running.\n",
        "2. What is exception handling in Python?\n",
        "- Exception handling allows you to catch and handle errors during program execution, preventing crashes. It uses:\n",
        "\n",
        "    try: Code that may raise an exception.\n",
        "\n",
        "    except: Handles the error.\n",
        "\n",
        "    else: Runs if no error occurs.\n",
        "\n",
        "    finally: Always runs, used for cleanup.\n",
        "    \n",
        "3. What is the purpose of the finally block in exception handling?\n",
        "- The finally block always executes, regardless of whether an exception occurs or not. It is mainly used for cleanup operations, like closing files or releasing resources.\n",
        "4. What is logging in Python?\n",
        "- Logging is used to track events, errors, and debugging information in a program. The logging module helps developers monitor and troubleshoot issues without using print().\n",
        "5. What is the significance of the __del__ method in Python?\n",
        "- The __del__ method is a destructor that is automatically called when an object is deleted or garbage collected. It is used to release resources like closing files or network connections.\n",
        "6. What is the difference between import and from ... import in Python?\n",
        "- import module: Imports the entire module, use module.function().\n",
        "from module import function: Imports specific functions, use them directly.\n",
        "\n",
        "7. How can you handle multiple exceptions in Python?\n",
        "- Handle multiple exceptions using multiple except blocks or a single except with a tuple. Multiple except blocks catch specific errors separately, while a tuple allows handling multiple exceptions in one block. This ensures better error handling and program stability.\n",
        "8. What is the purpose of the with statement when handling files in Python?\n",
        "- The with statement automatically handles file closing, preventing resource leaks. It ensures the file is properly closed after operations, even if an error occurs.\n",
        "9.  What is the difference between multithreading and multiprocessing?\n",
        "- Multithreading: Runs multiple threads within the same process, sharing memory. Best for I/O-bound tasks.\n",
        "Multiprocessing: Runs multiple processes separately, each with its own memory space. Best for CPU-bound tasks.\n",
        "10. What are the advantages of using logging in a program?\n",
        "- Helps in debugging, tracking errors, monitoring application flow, and improving maintainability. Supports different log levels like DEBUG, INFO, WARNING, ERROR, and CRITICAL.\n",
        "11. What is memory management in Python?\n",
        "- Uses automatic memory allocation, reference counting, and garbage collection to manage objects efficiently\n",
        "12. What are the basic steps involved in exception handling in Python?\n",
        "- Use try to write risky code, except to catch errors, else to execute if no error occurs, and finally for cleanup.\n",
        "13. Why is memory management important in Python?\n",
        "- Prevents memory leaks, optimizes performance, and ensures efficient resource utilization in long-running programs.\n",
        "14. What is the role of try and except in exception handling?\n",
        "- try contains code that may fail, and except handles specific errors, preventing program crashes.\n",
        "15. How does Python's garbage collection system work?\n",
        "- Uses reference counting and cyclic garbage collection to free unused memory automatically.\n",
        "16. What is the purpose of the else block in exception handling?\n",
        "- Runs only if no exceptions occur, separating error-handling code from normal execution.\n",
        "17.  What are the common logging levels in Python?\n",
        "- DEBUG, INFO, WARNING, ERROR, and CRITICAL indicate message importance.\n",
        "\n",
        "18. What is the difference between os.fork() and multiprocessing in Python?\n",
        "- os.fork() and multiprocessing: os.fork() creates child processes (Unix-only), while multiprocessing works cross-platform and provides better control.\n",
        "19. What is the importance of closing a file in Python?\n",
        "- Prevents data corruption, frees system resources, and avoids memory leaks.\n",
        "20. What is the difference between file.read() and file.readline() in Python?\n",
        "- file.read() and file.readline(): file.read() reads the entire file, while file.readline() reads one line at a time.\n",
        "21. What is the logging module in Python used for?\n",
        "-  Tracks events, errors, and debugging information in programs.\n",
        "22. What is the os module in Python used for in file handling?\n",
        "-  Manages files and directories (create, delete, rename).\n",
        "23. What are the challenges associated with memory management in Python?\n",
        "-  High memory usage, memory leaks, garbage collection delays, and cyclic references.\n",
        "24. How do you raise an exception manually in Python?\n",
        "- Use raise to trigger specific errors intentionally.\n",
        "\n",
        "25.  Why is it important to use multithreading in certain applications?\n",
        "- Enhances performance in I/O-bound tasks, allowing concurrent execution. Improves efficiency in network requests, database operations, and user interfaces by reducing wait times. It enables better resource utilization and keeps applications responsive without blocking the main thread.\n",
        "\n",
        "\n",
        "\n",
        "\n",
        "\n",
        "\n",
        "\n",
        "\n"
      ],
      "metadata": {
        "id": "9qDd_oGV6iG9"
      }
    },
    {
      "cell_type": "markdown",
      "source": [
        "#PRACTICAL\n"
      ],
      "metadata": {
        "id": "HjIYlDYF_bo8"
      }
    },
    {
      "cell_type": "code",
      "source": [
        "#1. How can you open a file for writing in Python and write a string to it?\n",
        "with open(\"file.txt\", \"w\") as file:\n",
        "    file.write(\"Hello, World!\")\n"
      ],
      "metadata": {
        "id": "7gaEceTO_fQg"
      },
      "execution_count": 22,
      "outputs": []
    },
    {
      "cell_type": "code",
      "source": [
        "#2. Write a Python program to read the contents of a file and print each line.\n",
        "\n",
        "with open(\"/content/sample_data/my_file.txt\", \"r\") as f:\n",
        "    for line in f:\n",
        "        print(line, end=\"\")"
      ],
      "metadata": {
        "colab": {
          "base_uri": "https://localhost:8080/"
        },
        "id": "KCl8wd7v_5Io",
        "outputId": "e4edc2a1-1e2f-45ab-ab5c-f79d302aaec5"
      },
      "execution_count": 44,
      "outputs": [
        {
          "output_type": "stream",
          "name": "stdout",
          "text": [
            "HELLO World"
          ]
        }
      ]
    },
    {
      "cell_type": "code",
      "source": [
        "\n",
        "#3.How would you handle a case where the file doesn't exist while trying to open it for reading?\n",
        "\n",
        "try:\n",
        "    with open(\"nonexistent_file.txt\", \"r\") as f:\n",
        "        content = f.read()\n",
        "except FileNotFoundError:\n",
        "    print(\"File not found.\")"
      ],
      "metadata": {
        "colab": {
          "base_uri": "https://localhost:8080/"
        },
        "id": "CoaGxYD_DEKs",
        "outputId": "79fd305d-fc81-4415-a48d-a4446b83b650"
      },
      "execution_count": 24,
      "outputs": [
        {
          "output_type": "stream",
          "name": "stdout",
          "text": [
            "File not found.\n"
          ]
        }
      ]
    },
    {
      "cell_type": "code",
      "source": [
        "\n",
        "#4. Write a Python script that reads from one file and writes its content to another file.\n",
        "\n",
        "with open(\"/content/sample_data/my_file.txt\", \"r\") as source, open(\"/content/sample_data/destination.txt\", \"w\") as dest:\n",
        "    dest.write(source.read())\n",
        "    with open(\"/content/sample_data/my_file.txt\", \"r\") as source, open(\"/content/sample_data/destination.txt\", \"w\") as dest:\n",
        "        print(dest.write(source.read()))\n",
        "\n",
        "    with open(\"/content/sample_data/destination.txt\", \"r\") as dest:\n",
        "        print(dest.read())"
      ],
      "metadata": {
        "colab": {
          "base_uri": "https://localhost:8080/"
        },
        "id": "y69gj5v7DOJU",
        "outputId": "7854284d-5f8f-45a5-cbb2-776ccc153eef"
      },
      "execution_count": 62,
      "outputs": [
        {
          "output_type": "stream",
          "name": "stdout",
          "text": [
            "49\n",
            "HELLO WorldNew data to append.New data to append.\n"
          ]
        }
      ]
    },
    {
      "cell_type": "code",
      "source": [
        "#5. How would you catch and handle division by zero error in Python?\n",
        "\n",
        "try:\n",
        "    result = 10 / 0\n",
        "except ZeroDivisionError:\n",
        "    print(\"Cannot divide by zero.\")\n",
        ""
      ],
      "metadata": {
        "colab": {
          "base_uri": "https://localhost:8080/"
        },
        "id": "w-DFXtjuDWLw",
        "outputId": "0a2945c3-595c-447c-9cb8-ea25cab213c9"
      },
      "execution_count": 26,
      "outputs": [
        {
          "output_type": "stream",
          "name": "stdout",
          "text": [
            "Cannot divide by zero.\n"
          ]
        }
      ]
    },
    {
      "cell_type": "code",
      "source": [
        "#6. Write a Python program that logs an error message to a log file when a division by zero exception occurs.\n",
        "\n",
        "import logging\n",
        "\n",
        "logging.basicConfig(filename='error.log', level=logging.ERROR)\n",
        "\n",
        "try:\n",
        "    result = 10 / 0\n",
        "except ZeroDivisionError:\n",
        "    logging.error(\"Division by zero occurred.\")\n",
        ""
      ],
      "metadata": {
        "colab": {
          "base_uri": "https://localhost:8080/"
        },
        "id": "yuR29RKWDdG7",
        "outputId": "86cafef7-f86e-4810-cfc2-4fbdb414e23d"
      },
      "execution_count": 27,
      "outputs": [
        {
          "output_type": "stream",
          "name": "stderr",
          "text": [
            "ERROR:root:Division by zero occurred.\n"
          ]
        }
      ]
    },
    {
      "cell_type": "code",
      "source": [
        "#7.How do you log information at different levels (INFO, ERROR, WARNING) in Python using the logging module?\n",
        "\n",
        "import logging\n",
        "\n",
        "logging.basicConfig(level=logging.INFO)\n",
        "\n",
        "logging.info(\"This is an info message.\")\n",
        "logging.warning(\"This is a warning message.\")\n",
        "logging.error(\"This is an error message.\")\n",
        ""
      ],
      "metadata": {
        "colab": {
          "base_uri": "https://localhost:8080/"
        },
        "id": "nzgv0sEhDkXm",
        "outputId": "77ab568a-5b15-4883-9911-686851a4dd3e"
      },
      "execution_count": 28,
      "outputs": [
        {
          "output_type": "stream",
          "name": "stderr",
          "text": [
            "WARNING:root:This is a warning message.\n",
            "ERROR:root:This is an error message.\n"
          ]
        }
      ]
    },
    {
      "cell_type": "code",
      "source": [
        "\n",
        "#8. Write a program to handle a file opening error using exception handling.\n",
        "\n",
        "try:\n",
        "    with open(\"unknown.txt\", \"r\") as f:\n",
        "        content = f.read()\n",
        "except FileNotFoundError:\n",
        "    print(\"File could not be opened.\")"
      ],
      "metadata": {
        "colab": {
          "base_uri": "https://localhost:8080/"
        },
        "id": "HNNeJZUYDunF",
        "outputId": "701a83e4-0dd9-4853-e60b-4eb990c38da4"
      },
      "execution_count": 29,
      "outputs": [
        {
          "output_type": "stream",
          "name": "stdout",
          "text": [
            "File could not be opened.\n"
          ]
        }
      ]
    },
    {
      "cell_type": "code",
      "source": [
        "#9. How can you read a file line by line and store its content in a list in Python?\n",
        "\n",
        "lines = []\n",
        "with open(\"/content/sample_data/my_file.txt\", \"r\") as f:\n",
        "  with open(\"/content/sample_data/my_file.txt\", \"r\") as f:\n",
        "    lines = []\n",
        "    for line in f:\n",
        "        lines.append(line.strip())\n",
        "        print(lines)\n",
        "        print(line)"
      ],
      "metadata": {
        "colab": {
          "base_uri": "https://localhost:8080/"
        },
        "id": "w1E9ElNkDwiu",
        "outputId": "77053af1-f465-46fe-837e-ba5ab5f488c6"
      },
      "execution_count": 50,
      "outputs": [
        {
          "output_type": "stream",
          "name": "stdout",
          "text": [
            "['HELLO World']\n",
            "HELLO World\n"
          ]
        }
      ]
    },
    {
      "cell_type": "code",
      "source": [
        "\n",
        "#10. How can you append data to an existing file in Python?\n",
        "\n",
        "with open(\"/content/sample_data/my_file.txt\", \"a\") as f:\n",
        "    f.write(\"New data to append.\")\n",
        "with open(\"/content/sample_data/my_file.txt\", \"r\") as f:\n",
        "    content=f.read()\n",
        "    print(content)"
      ],
      "metadata": {
        "colab": {
          "base_uri": "https://localhost:8080/"
        },
        "id": "XltmAJYxD2r0",
        "outputId": "7ecd9998-1007-4cff-bb27-3b179f246170"
      },
      "execution_count": 56,
      "outputs": [
        {
          "output_type": "stream",
          "name": "stdout",
          "text": [
            "HELLO WorldNew data to append.New data to append.\n"
          ]
        }
      ]
    },
    {
      "cell_type": "code",
      "source": [
        "#11. Write a Python program that uses a try-except block to handle an error when attempting to access a dictionary key that doesn't exist.\n",
        "\n",
        "my_dict = {\"a\": 1, \"b\": 2}\n",
        "try:\n",
        "    value = my_dict[\"c\"]\n",
        "except KeyError:\n",
        "    print(\"Key not found.\")"
      ],
      "metadata": {
        "colab": {
          "base_uri": "https://localhost:8080/"
        },
        "id": "xPfehB6VEABc",
        "outputId": "598f5587-386e-4ec3-970b-e0e072092f8d"
      },
      "execution_count": 30,
      "outputs": [
        {
          "output_type": "stream",
          "name": "stdout",
          "text": [
            "Key not found.\n"
          ]
        }
      ]
    },
    {
      "cell_type": "code",
      "source": [
        "#12. Write a program that demonstrates using multiple except blocks to handle different types of exceptions.\n",
        "\n",
        "try:\n",
        "    value = int(\"abc\")\n",
        "    result = 10 / 0\n",
        "except ValueError:\n",
        "    print(\"Invalid value.\")\n",
        "except ZeroDivisionError:\n",
        "    print(\"Cannot divide by zero.\")"
      ],
      "metadata": {
        "colab": {
          "base_uri": "https://localhost:8080/"
        },
        "id": "iXp0NjDrEFFv",
        "outputId": "bcac572c-08ba-4eb7-d24f-4d72da6d2c93"
      },
      "execution_count": 31,
      "outputs": [
        {
          "output_type": "stream",
          "name": "stdout",
          "text": [
            "Invalid value.\n"
          ]
        }
      ]
    },
    {
      "cell_type": "code",
      "source": [
        "\n",
        "#13.How would you check if a file exists before attempting to read it in Python?\n",
        "\n",
        "import os\n",
        "\n",
        "if os.path.exists(\"my_file.txt\"):\n",
        "    with open(\"my_file.txt\", \"r\") as f:\n",
        "        content = f.read()\n",
        "        print(\"File is exist\")\n",
        "else:\n",
        "    print(\"File does not exist.\")"
      ],
      "metadata": {
        "colab": {
          "base_uri": "https://localhost:8080/"
        },
        "id": "f4B0OwYjERlT",
        "outputId": "b6eb3515-0ad5-4689-bef0-dfe2eeed1193"
      },
      "execution_count": 32,
      "outputs": [
        {
          "output_type": "stream",
          "name": "stdout",
          "text": [
            "File does not exist.\n"
          ]
        }
      ]
    },
    {
      "cell_type": "code",
      "source": [
        "#14.Write a program that uses the logging module to log both informational and error messages.\n",
        "\n",
        "import logging\n",
        "\n",
        "logging.basicConfig(level=logging.INFO)\n",
        "\n",
        "logging.info(\"Program started.\")\n",
        "try:\n",
        "    result = 10 / 0\n",
        "except ZeroDivisionError:\n",
        "    logging.error(\"Division by zero occurred.\")"
      ],
      "metadata": {
        "colab": {
          "base_uri": "https://localhost:8080/"
        },
        "id": "Fgtg7gGvEUBI",
        "outputId": "473b1be6-31fe-462c-d198-17a92929be8e"
      },
      "execution_count": 33,
      "outputs": [
        {
          "output_type": "stream",
          "name": "stderr",
          "text": [
            "ERROR:root:Division by zero occurred.\n"
          ]
        }
      ]
    },
    {
      "cell_type": "code",
      "source": [
        "\n",
        "#15.Write a Python program that prints the content of a file and handles the case when the file is empty.\n",
        "\n",
        "try:\n",
        "    with open(\"/content/sample_data/my_file.txt\", \"r\") as f:\n",
        "        content = f.read()\n",
        "        if not content:\n",
        "            print(\"File is empty.\")\n",
        "        else:\n",
        "            print(content)\n",
        "except FileNotFoundError:\n",
        "    print(\"File not found.\")"
      ],
      "metadata": {
        "colab": {
          "base_uri": "https://localhost:8080/"
        },
        "id": "CmQPMfN7EglP",
        "outputId": "12180302-8bbf-4f59-8bd6-e0eb6481fd25"
      },
      "execution_count": 57,
      "outputs": [
        {
          "output_type": "stream",
          "name": "stdout",
          "text": [
            "HELLO WorldNew data to append.New data to append.\n"
          ]
        }
      ]
    },
    {
      "cell_type": "code",
      "source": [
        "\n",
        "#17.Write a Python program to create and write a list of numbers to a file, one number per line.\n",
        "\n",
        "numbers = [1, 2, 3, 4, 5]\n",
        "with open(\"numbers.txt\", \"w\") as f:\n",
        "    for num in numbers:\n",
        "        f.write(str(num) + \"\\n\")\n",
        "with open(\"numbers.txt\", \"r\") as f:\n",
        "   print(f.read())\n",
        ""
      ],
      "metadata": {
        "colab": {
          "base_uri": "https://localhost:8080/"
        },
        "id": "x7VooeWfEitk",
        "outputId": "1b4213f3-255d-49f4-d1c4-c042f7a1f574"
      },
      "execution_count": 53,
      "outputs": [
        {
          "output_type": "stream",
          "name": "stdout",
          "text": [
            "1\n",
            "2\n",
            "3\n",
            "4\n",
            "5\n",
            "\n"
          ]
        }
      ]
    },
    {
      "cell_type": "code",
      "source": [
        "\n",
        "#18.How would you implement a basic logging setup that logs to a file with rotation after 1MB?\n",
        "\n",
        "import logging\n",
        "from logging.handlers import RotatingFileHandler\n",
        "\n",
        "logging.basicConfig(level=logging.INFO)\n",
        "\n",
        "handler = RotatingFileHandler('app.log', maxBytes=1024*1024, backupCount=5)\n",
        "logging.getLogger('').addHandler(handler)\n",
        "\n",
        "logging.info(\"This is a log message.\")\n",
        "print(logging.info)"
      ],
      "metadata": {
        "colab": {
          "base_uri": "https://localhost:8080/"
        },
        "id": "hoAvK7mZEuog",
        "outputId": "2496105d-2b82-49cd-f572-407c77a12abe"
      },
      "execution_count": 35,
      "outputs": [
        {
          "output_type": "stream",
          "name": "stdout",
          "text": [
            "<function info at 0x7df3d5f50860>\n"
          ]
        }
      ]
    },
    {
      "cell_type": "code",
      "source": [
        "\n",
        "#19.Write a program that handles both IndexError and KeyError using a try-except block.\n",
        "\n",
        "my_list = [1, 2, 3]\n",
        "my_dict = {\"a\": 1, \"b\": 2}\n",
        "try:\n",
        "    value1 = my_list[5]\n",
        "    value2 = my_dict[\"c\"]\n",
        "except IndexError:\n",
        "    print(\"Index out of range.\")\n",
        "except KeyError:\n",
        "    print(\"Key not found.\")"
      ],
      "metadata": {
        "colab": {
          "base_uri": "https://localhost:8080/"
        },
        "id": "4XR1cHuwE3Bl",
        "outputId": "d3e70416-13c4-4b75-fcba-ba6be9117f91"
      },
      "execution_count": 36,
      "outputs": [
        {
          "output_type": "stream",
          "name": "stdout",
          "text": [
            "Index out of range.\n"
          ]
        }
      ]
    },
    {
      "cell_type": "code",
      "source": [
        "#20.How would you open a file and read its contents using a context manager in Python?\n",
        "\n",
        "with open(\"/content/sample_data/my_file.txt\", \"r\") as f:\n",
        "    content = f.read()\n",
        "    print(content)"
      ],
      "metadata": {
        "colab": {
          "base_uri": "https://localhost:8080/"
        },
        "id": "Spxt96JFE8N5",
        "outputId": "bb5bc2e5-2b0a-44ec-cc9b-1d98e917799a"
      },
      "execution_count": 58,
      "outputs": [
        {
          "output_type": "stream",
          "name": "stdout",
          "text": [
            "HELLO WorldNew data to append.New data to append.\n"
          ]
        }
      ]
    },
    {
      "cell_type": "code",
      "source": [
        "#21.Write a Python program that reads a file and prints the number of occurrences of a specific word.\n",
        "\n",
        "word = \"example\"\n",
        "count = 0\n",
        "with open(\"/content/sample_data/my_file.txt\", \"r\") as f:\n",
        "    for line in f:\n",
        "        count += line.lower().split().count(word.lower())\n",
        "print(f\"The word '{word}' appears {count} times.\")"
      ],
      "metadata": {
        "colab": {
          "base_uri": "https://localhost:8080/"
        },
        "id": "k5md5rRYFBde",
        "outputId": "5af22759-392f-4d5a-9690-44e3ee917929"
      },
      "execution_count": 59,
      "outputs": [
        {
          "output_type": "stream",
          "name": "stdout",
          "text": [
            "The word 'example' appears 0 times.\n"
          ]
        }
      ]
    },
    {
      "cell_type": "code",
      "source": [
        "\n",
        "#22.How can you check if a file is empty before attempting to read its contents?\n",
        "\n",
        "import os\n",
        "\n",
        "if os.stat(\"/content/sample_data/my_file.txt\").st_size == 0:\n",
        "    print(\"File is empty.\")\n",
        "else:\n",
        "    with open(\"/content/sample_data/my_file.txt\", \"r\") as f:\n",
        "        content = f.read()\n",
        "        print(content)"
      ],
      "metadata": {
        "colab": {
          "base_uri": "https://localhost:8080/"
        },
        "id": "bUvroiaHFJNN",
        "outputId": "73d9bead-215c-4b5b-f275-0b319083fe20"
      },
      "execution_count": 61,
      "outputs": [
        {
          "output_type": "stream",
          "name": "stdout",
          "text": [
            "HELLO WorldNew data to append.New data to append.\n"
          ]
        }
      ]
    },
    {
      "cell_type": "code",
      "source": [
        "#23.Write a Python program that writes to a log file when an error occurs during file handling.\n",
        "\n",
        "import logging\n",
        "\n",
        "logging.basicConfig(filename='file_errors.log', level=logging.ERROR)\n",
        "\n",
        "try:\n",
        "    with open(\"nonexistent_file.txt\", \"r\") as f:\n",
        "        content = f.read()\n",
        "except FileNotFoundError:\n",
        "    logging.error(\"File not found.\")"
      ],
      "metadata": {
        "colab": {
          "base_uri": "https://localhost:8080/"
        },
        "id": "34VQWEnKFP8l",
        "outputId": "95dcaa88-0102-4b6c-fb16-4aee070cbc35"
      },
      "execution_count": 40,
      "outputs": [
        {
          "output_type": "stream",
          "name": "stderr",
          "text": [
            "ERROR:root:File not found.\n"
          ]
        }
      ]
    }
  ]
}